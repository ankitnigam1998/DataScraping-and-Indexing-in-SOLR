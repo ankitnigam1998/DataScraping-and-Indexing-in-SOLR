{
 "cells": [
  {
   "cell_type": "markdown",
   "metadata": {},
   "source": [
    "# Main part"
   ]
  },
  {
   "cell_type": "code",
   "execution_count": 1,
   "metadata": {},
   "outputs": [],
   "source": [
    "import wikipedia\n",
    "import pysolr\n",
    "import re\n",
    "import requests"
   ]
  },
  {
   "cell_type": "code",
   "execution_count": 2,
   "metadata": {},
   "outputs": [],
   "source": [
    "CORE_NAME = \"testing\"\n",
    "VM_IP = \"34.121.33.106\""
   ]
  },
  {
   "cell_type": "code",
   "execution_count": 3,
   "metadata": {},
   "outputs": [],
   "source": [
    "class Indexer:\n",
    "    def __init__(self):\n",
    "        self.solr_url = f'https://{VM_IP}:8983/solr/'\n",
    "        self.connection = pysolr.Solr(f\"http://{VM_IP}:8983/solr/\" + CORE_NAME, always_commit = True, timeout = 10000)\n",
    "\n",
    "    def create_documents(self, docs):\n",
    "        print(self.connection.add(docs))"
   ]
  },
  {
   "cell_type": "code",
   "execution_count": 4,
   "metadata": {},
   "outputs": [],
   "source": [
    "def clean_summary(text):\n",
    "    cleaned_text = re.sub(r'[^a-zA-Z0-9\\s]', '', text)\n",
    "    return cleaned_text"
   ]
  },
  {
   "cell_type": "code",
   "execution_count": 5,
   "metadata": {},
   "outputs": [],
   "source": [
    "def scrape_and_index_wikipedia(main_topic, subtopics, min_unique_documents=1250, min_summary_length=200):\n",
    "    documents = []\n",
    "    unique_titles = set()\n",
    "\n",
    "    # Scrape data for the main topic\n",
    "    main_topic_documents = []\n",
    "    search_results_main = wikipedia.search(main_topic, results=min_unique_documents)\n",
    "    for page_title in search_results_main:\n",
    "        try:\n",
    "            page = wikipedia.page(page_title)\n",
    "\n",
    "            if page.title not in unique_titles and len(page.summary) >= min_summary_length:\n",
    "                cleaned_summary = clean_summary(page.summary)\n",
    "                if cleaned_summary:\n",
    "                    document = {\n",
    "                        \"revision_id\": str(page.revision_id),\n",
    "                        \"title\": page.title,\n",
    "                        \"summary\": cleaned_summary,\n",
    "                        \"url\": page.url,\n",
    "                        \"topic\": main_topic,\n",
    "                    }\n",
    "                    main_topic_documents.append(document)\n",
    "                    unique_titles.add(page.title)\n",
    "                    print(f\"Scraped {len(main_topic_documents)} unique documents for {main_topic}: {page.title}...\")\n",
    "        except wikipedia.exceptions.PageError as e:\n",
    "            pass\n",
    "        except wikipedia.exceptions.DisambiguationError as e:\n",
    "            pass\n",
    "\n",
    "    documents.extend(main_topic_documents)\n",
    "\n",
    "    # Distribute the remaining documents equally among subtopics\n",
    "    documents_per_subtopic = (min_unique_documents - len(main_topic_documents)) // len(subtopics)\n",
    "\n",
    "    for subtopic in subtopics:\n",
    "        topic = f\"{main_topic} - {subtopic}\"\n",
    "\n",
    "        # Scrape data for each subtopic\n",
    "        search_results_sub = wikipedia.search(subtopic, results=min_unique_documents)\n",
    "        for page_title in search_results_sub:\n",
    "            try:\n",
    "                page = wikipedia.page(page_title)\n",
    "\n",
    "                if page.title not in unique_titles and len(page.summary) >= min_summary_length:\n",
    "                    cleaned_summary = clean_summary(page.summary)\n",
    "                    if cleaned_summary:\n",
    "                        document = {\n",
    "                            \"revision_id\": str(page.revision_id),\n",
    "                            \"title\": page.title,\n",
    "                            \"summary\": cleaned_summary,\n",
    "                            \"url\": page.url,\n",
    "                            \"topic\": main_topic,\n",
    "                        }\n",
    "                        documents.append(document)\n",
    "                        unique_titles.add(page.title)\n",
    "                        print(f\"Scraped {len(documents)} unique documents for {topic}: {page.title}...\")\n",
    "            except wikipedia.exceptions.PageError as e:\n",
    "                pass\n",
    "            except wikipedia.exceptions.DisambiguationError as e:\n",
    "                pass\n",
    "\n",
    "    # Index the scraped documents\n",
    "    indexer = Indexer()\n",
    "    print(f\"Indexing {len(documents)} documents for {main_topic} in Solr...\")\n",
    "    indexer.create_documents(documents)"
   ]
  },
  {
   "cell_type": "code",
   "execution_count": 6,
   "metadata": {},
   "outputs": [],
   "source": [
    "topics = [\n",
    "    (\"Health\", [\"Common diseases\", \"global health statistics\", \"mental health trends\"]),\n",
    "    (\"Environment\", [\"Global warming\", \"endangered species\", \"deforestation rates\"]),\n",
    "    (\"Technology\", [\"Emerging technologies\", \"Artificial intelligence\", \"Software\"]),\n",
    "    (\"Economy\", [\"Stock market\", \"job markets\", \"cryptocurrency\"]),\n",
    "    (\"Entertainment\", [\"Music industry\", \"cultural events\", \"streaming platforms\"]),\n",
    "    (\"Sports\", [\"Cricket\", \"Football\", \"sports analytics\"]),\n",
    "    (\"Politics\", [\"Elections\", \"international relations\", \"Political parties\"]),\n",
    "    (\"Education\", [\"Literacy rates\", \"online education\", \"student loans\"]),\n",
    "    (\"Travel\", [\"Top tourist destinations\", \"airline industry\", \"travel trends\"]),\n",
    "    (\"Food\", [\"Famines\", \"global hunger\", \"food security\"])\n",
    "]"
   ]
  },
  {
   "cell_type": "code",
   "execution_count": 7,
   "metadata": {},
   "outputs": [
    {
     "data": {
      "text/plain": [
       "10"
      ]
     },
     "execution_count": 7,
     "metadata": {},
     "output_type": "execute_result"
    }
   ],
   "source": [
    "len(topics)"
   ]
  },
  {
   "cell_type": "code",
   "execution_count": 8,
   "metadata": {},
   "outputs": [
    {
     "name": "stdout",
     "output_type": "stream",
     "text": [
      "Scraping data for Health...\n",
      "Scraped 1 unique documents for Health: Death...\n",
      "Scraped 2 unique documents for Health: Health (film)...\n",
      "Scraped 3 unique documents for Health: Mental health...\n",
      "Scraped 4 unique documents for Health: Health care...\n"
     ]
    },
    {
     "name": "stderr",
     "output_type": "stream",
     "text": [
      "C:\\Users\\DELL\\AppData\\Local\\Programs\\Python\\Python37\\lib\\site-packages\\wikipedia\\wikipedia.py:389: UserWarning: No parser was explicitly specified, so I'm using the best available HTML parser for this system (\"lxml\"). This usually isn't a problem, but if you run this code on another system, or in a different virtual environment, it may use a different parser and behave differently.\n",
      "\n",
      "The code that caused this warning is on line 389 of the file C:\\Users\\DELL\\AppData\\Local\\Programs\\Python\\Python37\\lib\\site-packages\\wikipedia\\wikipedia.py. To get rid of this warning, pass the additional argument 'features=\"lxml\"' to the BeautifulSoup constructor.\n",
      "\n",
      "  lis = BeautifulSoup(html).find_all('li')\n"
     ]
    },
    {
     "name": "stdout",
     "output_type": "stream",
     "text": [
      "Scraped 5 unique documents for Health - Common diseases: Common disease-common variant...\n",
      "Scraped 6 unique documents for Health - Common diseases: List of causes of death by rate...\n",
      "Scraped 7 unique documents for Health - Common diseases: Disease...\n",
      "Scraped 8 unique documents for Health - Common diseases: Mangosteen...\n",
      "Scraped 9 unique documents for Health - Common diseases: Autoimmune disease...\n",
      "Scraped 10 unique documents for Health - global health statistics: Global health...\n",
      "Scraped 11 unique documents for Health - global health statistics: Institute for Health Metrics and Evaluation...\n",
      "Scraped 12 unique documents for Health - global health statistics: Global Burden of Disease Study...\n",
      "Scraped 13 unique documents for Health - global health statistics: Global Health Corps...\n",
      "Scraped 14 unique documents for Health - global health statistics: Global Health Observatory...\n",
      "Scraped 15 unique documents for Health - mental health trends: Mental disorder...\n",
      "Scraped 16 unique documents for Health - mental health trends: Community mental health service...\n",
      "Scraped 17 unique documents for Health - mental health trends: Causes of mental disorders...\n",
      "Scraped 18 unique documents for Health - mental health trends: Psychiatric hospital...\n",
      "Scraped 19 unique documents for Health - mental health trends: Mental health in South Korea...\n",
      "Indexing 19 documents for Health in Solr...\n",
      "{\n",
      "  \"responseHeader\":{\n",
      "    \"status\":0,\n",
      "    \"QTime\":317}}\n",
      "\n",
      "Scraping data for Environment...\n",
      "Scraped 1 unique documents for Environment: Natural environment...\n",
      "Scraped 2 unique documents for Environment: Market environment...\n",
      "Scraped 3 unique documents for Environment: Biophysical environment...\n",
      "Scraped 4 unique documents for Environment: Environment (systems)...\n"
     ]
    },
    {
     "ename": "KeyboardInterrupt",
     "evalue": "",
     "output_type": "error",
     "traceback": [
      "\u001b[1;31m---------------------------------------------------------------------------\u001b[0m",
      "\u001b[1;31mKeyboardInterrupt\u001b[0m                         Traceback (most recent call last)",
      "\u001b[1;32m~\\AppData\\Local\\Temp/ipykernel_26332/77664090.py\u001b[0m in \u001b[0;36m<module>\u001b[1;34m\u001b[0m\n\u001b[0;32m      1\u001b[0m \u001b[1;32mfor\u001b[0m \u001b[0mmain_topic\u001b[0m\u001b[1;33m,\u001b[0m \u001b[0msubtopics\u001b[0m \u001b[1;32min\u001b[0m \u001b[0mtopics\u001b[0m\u001b[1;33m:\u001b[0m\u001b[1;33m\u001b[0m\u001b[1;33m\u001b[0m\u001b[0m\n\u001b[0;32m      2\u001b[0m     \u001b[0mprint\u001b[0m\u001b[1;33m(\u001b[0m\u001b[1;34mf\"Scraping data for {main_topic}...\"\u001b[0m\u001b[1;33m)\u001b[0m\u001b[1;33m\u001b[0m\u001b[1;33m\u001b[0m\u001b[0m\n\u001b[1;32m----> 3\u001b[1;33m     \u001b[0mscrape_and_index_wikipedia\u001b[0m\u001b[1;33m(\u001b[0m\u001b[0mmain_topic\u001b[0m\u001b[1;33m,\u001b[0m \u001b[0msubtopics\u001b[0m\u001b[1;33m,\u001b[0m \u001b[0mmin_unique_documents\u001b[0m\u001b[1;33m=\u001b[0m\u001b[1;36m5\u001b[0m\u001b[1;33m)\u001b[0m\u001b[1;33m\u001b[0m\u001b[1;33m\u001b[0m\u001b[0m\n\u001b[0m",
      "\u001b[1;32m~\\AppData\\Local\\Temp/ipykernel_26332/1017050506.py\u001b[0m in \u001b[0;36mscrape_and_index_wikipedia\u001b[1;34m(main_topic, subtopics, min_unique_documents, min_summary_length)\u001b[0m\n\u001b[0;32m     37\u001b[0m \u001b[1;33m\u001b[0m\u001b[0m\n\u001b[0;32m     38\u001b[0m         \u001b[1;31m# Scrape data for each subtopic\u001b[0m\u001b[1;33m\u001b[0m\u001b[1;33m\u001b[0m\u001b[1;33m\u001b[0m\u001b[0m\n\u001b[1;32m---> 39\u001b[1;33m         \u001b[0msearch_results_sub\u001b[0m \u001b[1;33m=\u001b[0m \u001b[0mwikipedia\u001b[0m\u001b[1;33m.\u001b[0m\u001b[0msearch\u001b[0m\u001b[1;33m(\u001b[0m\u001b[0msubtopic\u001b[0m\u001b[1;33m,\u001b[0m \u001b[0mresults\u001b[0m\u001b[1;33m=\u001b[0m\u001b[0mmin_unique_documents\u001b[0m\u001b[1;33m)\u001b[0m\u001b[1;33m\u001b[0m\u001b[1;33m\u001b[0m\u001b[0m\n\u001b[0m\u001b[0;32m     40\u001b[0m         \u001b[1;32mfor\u001b[0m \u001b[0mpage_title\u001b[0m \u001b[1;32min\u001b[0m \u001b[0msearch_results_sub\u001b[0m\u001b[1;33m:\u001b[0m\u001b[1;33m\u001b[0m\u001b[1;33m\u001b[0m\u001b[0m\n\u001b[0;32m     41\u001b[0m             \u001b[1;32mtry\u001b[0m\u001b[1;33m:\u001b[0m\u001b[1;33m\u001b[0m\u001b[1;33m\u001b[0m\u001b[0m\n",
      "\u001b[1;32m~\\AppData\\Local\\Programs\\Python\\Python37\\lib\\site-packages\\wikipedia\\util.py\u001b[0m in \u001b[0;36m__call__\u001b[1;34m(self, *args, **kwargs)\u001b[0m\n\u001b[0;32m     26\u001b[0m       \u001b[0mret\u001b[0m \u001b[1;33m=\u001b[0m \u001b[0mself\u001b[0m\u001b[1;33m.\u001b[0m\u001b[0m_cache\u001b[0m\u001b[1;33m[\u001b[0m\u001b[0mkey\u001b[0m\u001b[1;33m]\u001b[0m\u001b[1;33m\u001b[0m\u001b[1;33m\u001b[0m\u001b[0m\n\u001b[0;32m     27\u001b[0m     \u001b[1;32melse\u001b[0m\u001b[1;33m:\u001b[0m\u001b[1;33m\u001b[0m\u001b[1;33m\u001b[0m\u001b[0m\n\u001b[1;32m---> 28\u001b[1;33m       \u001b[0mret\u001b[0m \u001b[1;33m=\u001b[0m \u001b[0mself\u001b[0m\u001b[1;33m.\u001b[0m\u001b[0m_cache\u001b[0m\u001b[1;33m[\u001b[0m\u001b[0mkey\u001b[0m\u001b[1;33m]\u001b[0m \u001b[1;33m=\u001b[0m \u001b[0mself\u001b[0m\u001b[1;33m.\u001b[0m\u001b[0mfn\u001b[0m\u001b[1;33m(\u001b[0m\u001b[1;33m*\u001b[0m\u001b[0margs\u001b[0m\u001b[1;33m,\u001b[0m \u001b[1;33m**\u001b[0m\u001b[0mkwargs\u001b[0m\u001b[1;33m)\u001b[0m\u001b[1;33m\u001b[0m\u001b[1;33m\u001b[0m\u001b[0m\n\u001b[0m\u001b[0;32m     29\u001b[0m \u001b[1;33m\u001b[0m\u001b[0m\n\u001b[0;32m     30\u001b[0m     \u001b[1;32mreturn\u001b[0m \u001b[0mret\u001b[0m\u001b[1;33m\u001b[0m\u001b[1;33m\u001b[0m\u001b[0m\n",
      "\u001b[1;32m~\\AppData\\Local\\Programs\\Python\\Python37\\lib\\site-packages\\wikipedia\\wikipedia.py\u001b[0m in \u001b[0;36msearch\u001b[1;34m(query, results, suggestion)\u001b[0m\n\u001b[0;32m    101\u001b[0m     \u001b[0msearch_params\u001b[0m\u001b[1;33m[\u001b[0m\u001b[1;34m'srinfo'\u001b[0m\u001b[1;33m]\u001b[0m \u001b[1;33m=\u001b[0m \u001b[1;34m'suggestion'\u001b[0m\u001b[1;33m\u001b[0m\u001b[1;33m\u001b[0m\u001b[0m\n\u001b[0;32m    102\u001b[0m \u001b[1;33m\u001b[0m\u001b[0m\n\u001b[1;32m--> 103\u001b[1;33m   \u001b[0mraw_results\u001b[0m \u001b[1;33m=\u001b[0m \u001b[0m_wiki_request\u001b[0m\u001b[1;33m(\u001b[0m\u001b[0msearch_params\u001b[0m\u001b[1;33m)\u001b[0m\u001b[1;33m\u001b[0m\u001b[1;33m\u001b[0m\u001b[0m\n\u001b[0m\u001b[0;32m    104\u001b[0m \u001b[1;33m\u001b[0m\u001b[0m\n\u001b[0;32m    105\u001b[0m   \u001b[1;32mif\u001b[0m \u001b[1;34m'error'\u001b[0m \u001b[1;32min\u001b[0m \u001b[0mraw_results\u001b[0m\u001b[1;33m:\u001b[0m\u001b[1;33m\u001b[0m\u001b[1;33m\u001b[0m\u001b[0m\n",
      "\u001b[1;32m~\\AppData\\Local\\Programs\\Python\\Python37\\lib\\site-packages\\wikipedia\\wikipedia.py\u001b[0m in \u001b[0;36m_wiki_request\u001b[1;34m(params)\u001b[0m\n\u001b[0;32m    735\u001b[0m     \u001b[0mtime\u001b[0m\u001b[1;33m.\u001b[0m\u001b[0msleep\u001b[0m\u001b[1;33m(\u001b[0m\u001b[0mint\u001b[0m\u001b[1;33m(\u001b[0m\u001b[0mwait_time\u001b[0m\u001b[1;33m.\u001b[0m\u001b[0mtotal_seconds\u001b[0m\u001b[1;33m(\u001b[0m\u001b[1;33m)\u001b[0m\u001b[1;33m)\u001b[0m\u001b[1;33m)\u001b[0m\u001b[1;33m\u001b[0m\u001b[1;33m\u001b[0m\u001b[0m\n\u001b[0;32m    736\u001b[0m \u001b[1;33m\u001b[0m\u001b[0m\n\u001b[1;32m--> 737\u001b[1;33m   \u001b[0mr\u001b[0m \u001b[1;33m=\u001b[0m \u001b[0mrequests\u001b[0m\u001b[1;33m.\u001b[0m\u001b[0mget\u001b[0m\u001b[1;33m(\u001b[0m\u001b[0mAPI_URL\u001b[0m\u001b[1;33m,\u001b[0m \u001b[0mparams\u001b[0m\u001b[1;33m=\u001b[0m\u001b[0mparams\u001b[0m\u001b[1;33m,\u001b[0m \u001b[0mheaders\u001b[0m\u001b[1;33m=\u001b[0m\u001b[0mheaders\u001b[0m\u001b[1;33m)\u001b[0m\u001b[1;33m\u001b[0m\u001b[1;33m\u001b[0m\u001b[0m\n\u001b[0m\u001b[0;32m    738\u001b[0m \u001b[1;33m\u001b[0m\u001b[0m\n\u001b[0;32m    739\u001b[0m   \u001b[1;32mif\u001b[0m \u001b[0mRATE_LIMIT\u001b[0m\u001b[1;33m:\u001b[0m\u001b[1;33m\u001b[0m\u001b[1;33m\u001b[0m\u001b[0m\n",
      "\u001b[1;32m~\\AppData\\Local\\Programs\\Python\\Python37\\lib\\site-packages\\requests\\api.py\u001b[0m in \u001b[0;36mget\u001b[1;34m(url, params, **kwargs)\u001b[0m\n\u001b[0;32m     71\u001b[0m     \"\"\"\n\u001b[0;32m     72\u001b[0m \u001b[1;33m\u001b[0m\u001b[0m\n\u001b[1;32m---> 73\u001b[1;33m     \u001b[1;32mreturn\u001b[0m \u001b[0mrequest\u001b[0m\u001b[1;33m(\u001b[0m\u001b[1;34m\"get\"\u001b[0m\u001b[1;33m,\u001b[0m \u001b[0murl\u001b[0m\u001b[1;33m,\u001b[0m \u001b[0mparams\u001b[0m\u001b[1;33m=\u001b[0m\u001b[0mparams\u001b[0m\u001b[1;33m,\u001b[0m \u001b[1;33m**\u001b[0m\u001b[0mkwargs\u001b[0m\u001b[1;33m)\u001b[0m\u001b[1;33m\u001b[0m\u001b[1;33m\u001b[0m\u001b[0m\n\u001b[0m\u001b[0;32m     74\u001b[0m \u001b[1;33m\u001b[0m\u001b[0m\n\u001b[0;32m     75\u001b[0m \u001b[1;33m\u001b[0m\u001b[0m\n",
      "\u001b[1;32m~\\AppData\\Local\\Programs\\Python\\Python37\\lib\\site-packages\\requests\\api.py\u001b[0m in \u001b[0;36mrequest\u001b[1;34m(method, url, **kwargs)\u001b[0m\n\u001b[0;32m     57\u001b[0m     \u001b[1;31m# cases, and look like a memory leak in others.\u001b[0m\u001b[1;33m\u001b[0m\u001b[1;33m\u001b[0m\u001b[1;33m\u001b[0m\u001b[0m\n\u001b[0;32m     58\u001b[0m     \u001b[1;32mwith\u001b[0m \u001b[0msessions\u001b[0m\u001b[1;33m.\u001b[0m\u001b[0mSession\u001b[0m\u001b[1;33m(\u001b[0m\u001b[1;33m)\u001b[0m \u001b[1;32mas\u001b[0m \u001b[0msession\u001b[0m\u001b[1;33m:\u001b[0m\u001b[1;33m\u001b[0m\u001b[1;33m\u001b[0m\u001b[0m\n\u001b[1;32m---> 59\u001b[1;33m         \u001b[1;32mreturn\u001b[0m \u001b[0msession\u001b[0m\u001b[1;33m.\u001b[0m\u001b[0mrequest\u001b[0m\u001b[1;33m(\u001b[0m\u001b[0mmethod\u001b[0m\u001b[1;33m=\u001b[0m\u001b[0mmethod\u001b[0m\u001b[1;33m,\u001b[0m \u001b[0murl\u001b[0m\u001b[1;33m=\u001b[0m\u001b[0murl\u001b[0m\u001b[1;33m,\u001b[0m \u001b[1;33m**\u001b[0m\u001b[0mkwargs\u001b[0m\u001b[1;33m)\u001b[0m\u001b[1;33m\u001b[0m\u001b[1;33m\u001b[0m\u001b[0m\n\u001b[0m\u001b[0;32m     60\u001b[0m \u001b[1;33m\u001b[0m\u001b[0m\n\u001b[0;32m     61\u001b[0m \u001b[1;33m\u001b[0m\u001b[0m\n",
      "\u001b[1;32m~\\AppData\\Local\\Programs\\Python\\Python37\\lib\\site-packages\\requests\\sessions.py\u001b[0m in \u001b[0;36mrequest\u001b[1;34m(self, method, url, params, data, headers, cookies, files, auth, timeout, allow_redirects, proxies, hooks, stream, verify, cert, json)\u001b[0m\n\u001b[0;32m    585\u001b[0m         }\n\u001b[0;32m    586\u001b[0m         \u001b[0msend_kwargs\u001b[0m\u001b[1;33m.\u001b[0m\u001b[0mupdate\u001b[0m\u001b[1;33m(\u001b[0m\u001b[0msettings\u001b[0m\u001b[1;33m)\u001b[0m\u001b[1;33m\u001b[0m\u001b[1;33m\u001b[0m\u001b[0m\n\u001b[1;32m--> 587\u001b[1;33m         \u001b[0mresp\u001b[0m \u001b[1;33m=\u001b[0m \u001b[0mself\u001b[0m\u001b[1;33m.\u001b[0m\u001b[0msend\u001b[0m\u001b[1;33m(\u001b[0m\u001b[0mprep\u001b[0m\u001b[1;33m,\u001b[0m \u001b[1;33m**\u001b[0m\u001b[0msend_kwargs\u001b[0m\u001b[1;33m)\u001b[0m\u001b[1;33m\u001b[0m\u001b[1;33m\u001b[0m\u001b[0m\n\u001b[0m\u001b[0;32m    588\u001b[0m \u001b[1;33m\u001b[0m\u001b[0m\n\u001b[0;32m    589\u001b[0m         \u001b[1;32mreturn\u001b[0m \u001b[0mresp\u001b[0m\u001b[1;33m\u001b[0m\u001b[1;33m\u001b[0m\u001b[0m\n",
      "\u001b[1;32m~\\AppData\\Local\\Programs\\Python\\Python37\\lib\\site-packages\\requests\\sessions.py\u001b[0m in \u001b[0;36msend\u001b[1;34m(self, request, **kwargs)\u001b[0m\n\u001b[0;32m    721\u001b[0m             \u001b[1;31m# Redirect resolving generator.\u001b[0m\u001b[1;33m\u001b[0m\u001b[1;33m\u001b[0m\u001b[1;33m\u001b[0m\u001b[0m\n\u001b[0;32m    722\u001b[0m             \u001b[0mgen\u001b[0m \u001b[1;33m=\u001b[0m \u001b[0mself\u001b[0m\u001b[1;33m.\u001b[0m\u001b[0mresolve_redirects\u001b[0m\u001b[1;33m(\u001b[0m\u001b[0mr\u001b[0m\u001b[1;33m,\u001b[0m \u001b[0mrequest\u001b[0m\u001b[1;33m,\u001b[0m \u001b[1;33m**\u001b[0m\u001b[0mkwargs\u001b[0m\u001b[1;33m)\u001b[0m\u001b[1;33m\u001b[0m\u001b[1;33m\u001b[0m\u001b[0m\n\u001b[1;32m--> 723\u001b[1;33m             \u001b[0mhistory\u001b[0m \u001b[1;33m=\u001b[0m \u001b[1;33m[\u001b[0m\u001b[0mresp\u001b[0m \u001b[1;32mfor\u001b[0m \u001b[0mresp\u001b[0m \u001b[1;32min\u001b[0m \u001b[0mgen\u001b[0m\u001b[1;33m]\u001b[0m\u001b[1;33m\u001b[0m\u001b[1;33m\u001b[0m\u001b[0m\n\u001b[0m\u001b[0;32m    724\u001b[0m         \u001b[1;32melse\u001b[0m\u001b[1;33m:\u001b[0m\u001b[1;33m\u001b[0m\u001b[1;33m\u001b[0m\u001b[0m\n\u001b[0;32m    725\u001b[0m             \u001b[0mhistory\u001b[0m \u001b[1;33m=\u001b[0m \u001b[1;33m[\u001b[0m\u001b[1;33m]\u001b[0m\u001b[1;33m\u001b[0m\u001b[1;33m\u001b[0m\u001b[0m\n",
      "\u001b[1;32m~\\AppData\\Local\\Programs\\Python\\Python37\\lib\\site-packages\\requests\\sessions.py\u001b[0m in \u001b[0;36m<listcomp>\u001b[1;34m(.0)\u001b[0m\n\u001b[0;32m    721\u001b[0m             \u001b[1;31m# Redirect resolving generator.\u001b[0m\u001b[1;33m\u001b[0m\u001b[1;33m\u001b[0m\u001b[1;33m\u001b[0m\u001b[0m\n\u001b[0;32m    722\u001b[0m             \u001b[0mgen\u001b[0m \u001b[1;33m=\u001b[0m \u001b[0mself\u001b[0m\u001b[1;33m.\u001b[0m\u001b[0mresolve_redirects\u001b[0m\u001b[1;33m(\u001b[0m\u001b[0mr\u001b[0m\u001b[1;33m,\u001b[0m \u001b[0mrequest\u001b[0m\u001b[1;33m,\u001b[0m \u001b[1;33m**\u001b[0m\u001b[0mkwargs\u001b[0m\u001b[1;33m)\u001b[0m\u001b[1;33m\u001b[0m\u001b[1;33m\u001b[0m\u001b[0m\n\u001b[1;32m--> 723\u001b[1;33m             \u001b[0mhistory\u001b[0m \u001b[1;33m=\u001b[0m \u001b[1;33m[\u001b[0m\u001b[0mresp\u001b[0m \u001b[1;32mfor\u001b[0m \u001b[0mresp\u001b[0m \u001b[1;32min\u001b[0m \u001b[0mgen\u001b[0m\u001b[1;33m]\u001b[0m\u001b[1;33m\u001b[0m\u001b[1;33m\u001b[0m\u001b[0m\n\u001b[0m\u001b[0;32m    724\u001b[0m         \u001b[1;32melse\u001b[0m\u001b[1;33m:\u001b[0m\u001b[1;33m\u001b[0m\u001b[1;33m\u001b[0m\u001b[0m\n\u001b[0;32m    725\u001b[0m             \u001b[0mhistory\u001b[0m \u001b[1;33m=\u001b[0m \u001b[1;33m[\u001b[0m\u001b[1;33m]\u001b[0m\u001b[1;33m\u001b[0m\u001b[1;33m\u001b[0m\u001b[0m\n",
      "\u001b[1;32m~\\AppData\\Local\\Programs\\Python\\Python37\\lib\\site-packages\\requests\\sessions.py\u001b[0m in \u001b[0;36mresolve_redirects\u001b[1;34m(self, resp, req, stream, timeout, verify, cert, proxies, yield_requests, **adapter_kwargs)\u001b[0m\n\u001b[0;32m    272\u001b[0m                     \u001b[0mproxies\u001b[0m\u001b[1;33m=\u001b[0m\u001b[0mproxies\u001b[0m\u001b[1;33m,\u001b[0m\u001b[1;33m\u001b[0m\u001b[1;33m\u001b[0m\u001b[0m\n\u001b[0;32m    273\u001b[0m                     \u001b[0mallow_redirects\u001b[0m\u001b[1;33m=\u001b[0m\u001b[1;32mFalse\u001b[0m\u001b[1;33m,\u001b[0m\u001b[1;33m\u001b[0m\u001b[1;33m\u001b[0m\u001b[0m\n\u001b[1;32m--> 274\u001b[1;33m                     \u001b[1;33m**\u001b[0m\u001b[0madapter_kwargs\u001b[0m\u001b[1;33m,\u001b[0m\u001b[1;33m\u001b[0m\u001b[1;33m\u001b[0m\u001b[0m\n\u001b[0m\u001b[0;32m    275\u001b[0m                 )\n\u001b[0;32m    276\u001b[0m \u001b[1;33m\u001b[0m\u001b[0m\n",
      "\u001b[1;32m~\\AppData\\Local\\Programs\\Python\\Python37\\lib\\site-packages\\requests\\sessions.py\u001b[0m in \u001b[0;36msend\u001b[1;34m(self, request, **kwargs)\u001b[0m\n\u001b[0;32m    699\u001b[0m \u001b[1;33m\u001b[0m\u001b[0m\n\u001b[0;32m    700\u001b[0m         \u001b[1;31m# Send the request\u001b[0m\u001b[1;33m\u001b[0m\u001b[1;33m\u001b[0m\u001b[1;33m\u001b[0m\u001b[0m\n\u001b[1;32m--> 701\u001b[1;33m         \u001b[0mr\u001b[0m \u001b[1;33m=\u001b[0m \u001b[0madapter\u001b[0m\u001b[1;33m.\u001b[0m\u001b[0msend\u001b[0m\u001b[1;33m(\u001b[0m\u001b[0mrequest\u001b[0m\u001b[1;33m,\u001b[0m \u001b[1;33m**\u001b[0m\u001b[0mkwargs\u001b[0m\u001b[1;33m)\u001b[0m\u001b[1;33m\u001b[0m\u001b[1;33m\u001b[0m\u001b[0m\n\u001b[0m\u001b[0;32m    702\u001b[0m \u001b[1;33m\u001b[0m\u001b[0m\n\u001b[0;32m    703\u001b[0m         \u001b[1;31m# Total elapsed time of the request (approximately)\u001b[0m\u001b[1;33m\u001b[0m\u001b[1;33m\u001b[0m\u001b[1;33m\u001b[0m\u001b[0m\n",
      "\u001b[1;32m~\\AppData\\Local\\Programs\\Python\\Python37\\lib\\site-packages\\requests\\adapters.py\u001b[0m in \u001b[0;36msend\u001b[1;34m(self, request, stream, timeout, verify, cert, proxies)\u001b[0m\n\u001b[0;32m    497\u001b[0m                     \u001b[0mdecode_content\u001b[0m\u001b[1;33m=\u001b[0m\u001b[1;32mFalse\u001b[0m\u001b[1;33m,\u001b[0m\u001b[1;33m\u001b[0m\u001b[1;33m\u001b[0m\u001b[0m\n\u001b[0;32m    498\u001b[0m                     \u001b[0mretries\u001b[0m\u001b[1;33m=\u001b[0m\u001b[0mself\u001b[0m\u001b[1;33m.\u001b[0m\u001b[0mmax_retries\u001b[0m\u001b[1;33m,\u001b[0m\u001b[1;33m\u001b[0m\u001b[1;33m\u001b[0m\u001b[0m\n\u001b[1;32m--> 499\u001b[1;33m                     \u001b[0mtimeout\u001b[0m\u001b[1;33m=\u001b[0m\u001b[0mtimeout\u001b[0m\u001b[1;33m,\u001b[0m\u001b[1;33m\u001b[0m\u001b[1;33m\u001b[0m\u001b[0m\n\u001b[0m\u001b[0;32m    500\u001b[0m                 )\n\u001b[0;32m    501\u001b[0m \u001b[1;33m\u001b[0m\u001b[0m\n",
      "\u001b[1;32m~\\AppData\\Local\\Programs\\Python\\Python37\\lib\\site-packages\\urllib3\\connectionpool.py\u001b[0m in \u001b[0;36murlopen\u001b[1;34m(self, method, url, body, headers, retries, redirect, assert_same_host, timeout, pool_timeout, release_conn, chunked, body_pos, **response_kw)\u001b[0m\n\u001b[0;32m    708\u001b[0m                 \u001b[0mbody\u001b[0m\u001b[1;33m=\u001b[0m\u001b[0mbody\u001b[0m\u001b[1;33m,\u001b[0m\u001b[1;33m\u001b[0m\u001b[1;33m\u001b[0m\u001b[0m\n\u001b[0;32m    709\u001b[0m                 \u001b[0mheaders\u001b[0m\u001b[1;33m=\u001b[0m\u001b[0mheaders\u001b[0m\u001b[1;33m,\u001b[0m\u001b[1;33m\u001b[0m\u001b[1;33m\u001b[0m\u001b[0m\n\u001b[1;32m--> 710\u001b[1;33m                 \u001b[0mchunked\u001b[0m\u001b[1;33m=\u001b[0m\u001b[0mchunked\u001b[0m\u001b[1;33m,\u001b[0m\u001b[1;33m\u001b[0m\u001b[1;33m\u001b[0m\u001b[0m\n\u001b[0m\u001b[0;32m    711\u001b[0m             )\n\u001b[0;32m    712\u001b[0m \u001b[1;33m\u001b[0m\u001b[0m\n",
      "\u001b[1;32m~\\AppData\\Local\\Programs\\Python\\Python37\\lib\\site-packages\\urllib3\\connectionpool.py\u001b[0m in \u001b[0;36m_make_request\u001b[1;34m(self, conn, method, url, timeout, chunked, **httplib_request_kw)\u001b[0m\n\u001b[0;32m    384\u001b[0m         \u001b[1;31m# Trigger any extra validation we need to do.\u001b[0m\u001b[1;33m\u001b[0m\u001b[1;33m\u001b[0m\u001b[1;33m\u001b[0m\u001b[0m\n\u001b[0;32m    385\u001b[0m         \u001b[1;32mtry\u001b[0m\u001b[1;33m:\u001b[0m\u001b[1;33m\u001b[0m\u001b[1;33m\u001b[0m\u001b[0m\n\u001b[1;32m--> 386\u001b[1;33m             \u001b[0mself\u001b[0m\u001b[1;33m.\u001b[0m\u001b[0m_validate_conn\u001b[0m\u001b[1;33m(\u001b[0m\u001b[0mconn\u001b[0m\u001b[1;33m)\u001b[0m\u001b[1;33m\u001b[0m\u001b[1;33m\u001b[0m\u001b[0m\n\u001b[0m\u001b[0;32m    387\u001b[0m         \u001b[1;32mexcept\u001b[0m \u001b[1;33m(\u001b[0m\u001b[0mSocketTimeout\u001b[0m\u001b[1;33m,\u001b[0m \u001b[0mBaseSSLError\u001b[0m\u001b[1;33m)\u001b[0m \u001b[1;32mas\u001b[0m \u001b[0me\u001b[0m\u001b[1;33m:\u001b[0m\u001b[1;33m\u001b[0m\u001b[1;33m\u001b[0m\u001b[0m\n\u001b[0;32m    388\u001b[0m             \u001b[1;31m# Py2 raises this as a BaseSSLError, Py3 raises it as socket timeout.\u001b[0m\u001b[1;33m\u001b[0m\u001b[1;33m\u001b[0m\u001b[1;33m\u001b[0m\u001b[0m\n",
      "\u001b[1;32m~\\AppData\\Local\\Programs\\Python\\Python37\\lib\\site-packages\\urllib3\\connectionpool.py\u001b[0m in \u001b[0;36m_validate_conn\u001b[1;34m(self, conn)\u001b[0m\n\u001b[0;32m   1040\u001b[0m         \u001b[1;31m# Force connect early to allow us to validate the connection.\u001b[0m\u001b[1;33m\u001b[0m\u001b[1;33m\u001b[0m\u001b[1;33m\u001b[0m\u001b[0m\n\u001b[0;32m   1041\u001b[0m         \u001b[1;32mif\u001b[0m \u001b[1;32mnot\u001b[0m \u001b[0mgetattr\u001b[0m\u001b[1;33m(\u001b[0m\u001b[0mconn\u001b[0m\u001b[1;33m,\u001b[0m \u001b[1;34m\"sock\"\u001b[0m\u001b[1;33m,\u001b[0m \u001b[1;32mNone\u001b[0m\u001b[1;33m)\u001b[0m\u001b[1;33m:\u001b[0m  \u001b[1;31m# AppEngine might not have  `.sock`\u001b[0m\u001b[1;33m\u001b[0m\u001b[1;33m\u001b[0m\u001b[0m\n\u001b[1;32m-> 1042\u001b[1;33m             \u001b[0mconn\u001b[0m\u001b[1;33m.\u001b[0m\u001b[0mconnect\u001b[0m\u001b[1;33m(\u001b[0m\u001b[1;33m)\u001b[0m\u001b[1;33m\u001b[0m\u001b[1;33m\u001b[0m\u001b[0m\n\u001b[0m\u001b[0;32m   1043\u001b[0m \u001b[1;33m\u001b[0m\u001b[0m\n\u001b[0;32m   1044\u001b[0m         \u001b[1;32mif\u001b[0m \u001b[1;32mnot\u001b[0m \u001b[0mconn\u001b[0m\u001b[1;33m.\u001b[0m\u001b[0mis_verified\u001b[0m\u001b[1;33m:\u001b[0m\u001b[1;33m\u001b[0m\u001b[1;33m\u001b[0m\u001b[0m\n",
      "\u001b[1;32m~\\AppData\\Local\\Programs\\Python\\Python37\\lib\\site-packages\\urllib3\\connection.py\u001b[0m in \u001b[0;36mconnect\u001b[1;34m(self)\u001b[0m\n\u001b[0;32m    427\u001b[0m             \u001b[0mserver_hostname\u001b[0m\u001b[1;33m=\u001b[0m\u001b[0mserver_hostname\u001b[0m\u001b[1;33m,\u001b[0m\u001b[1;33m\u001b[0m\u001b[1;33m\u001b[0m\u001b[0m\n\u001b[0;32m    428\u001b[0m             \u001b[0mssl_context\u001b[0m\u001b[1;33m=\u001b[0m\u001b[0mcontext\u001b[0m\u001b[1;33m,\u001b[0m\u001b[1;33m\u001b[0m\u001b[1;33m\u001b[0m\u001b[0m\n\u001b[1;32m--> 429\u001b[1;33m             \u001b[0mtls_in_tls\u001b[0m\u001b[1;33m=\u001b[0m\u001b[0mtls_in_tls\u001b[0m\u001b[1;33m,\u001b[0m\u001b[1;33m\u001b[0m\u001b[1;33m\u001b[0m\u001b[0m\n\u001b[0m\u001b[0;32m    430\u001b[0m         )\n\u001b[0;32m    431\u001b[0m \u001b[1;33m\u001b[0m\u001b[0m\n",
      "\u001b[1;32m~\\AppData\\Local\\Programs\\Python\\Python37\\lib\\site-packages\\urllib3\\util\\ssl_.py\u001b[0m in \u001b[0;36mssl_wrap_socket\u001b[1;34m(sock, keyfile, certfile, cert_reqs, ca_certs, server_hostname, ssl_version, ciphers, ssl_context, ca_cert_dir, key_password, ca_cert_data, tls_in_tls)\u001b[0m\n\u001b[0;32m    448\u001b[0m     \u001b[1;32mif\u001b[0m \u001b[0msend_sni\u001b[0m\u001b[1;33m:\u001b[0m\u001b[1;33m\u001b[0m\u001b[1;33m\u001b[0m\u001b[0m\n\u001b[0;32m    449\u001b[0m         ssl_sock = _ssl_wrap_socket_impl(\n\u001b[1;32m--> 450\u001b[1;33m             \u001b[0msock\u001b[0m\u001b[1;33m,\u001b[0m \u001b[0mcontext\u001b[0m\u001b[1;33m,\u001b[0m \u001b[0mtls_in_tls\u001b[0m\u001b[1;33m,\u001b[0m \u001b[0mserver_hostname\u001b[0m\u001b[1;33m=\u001b[0m\u001b[0mserver_hostname\u001b[0m\u001b[1;33m\u001b[0m\u001b[1;33m\u001b[0m\u001b[0m\n\u001b[0m\u001b[0;32m    451\u001b[0m         )\n\u001b[0;32m    452\u001b[0m     \u001b[1;32melse\u001b[0m\u001b[1;33m:\u001b[0m\u001b[1;33m\u001b[0m\u001b[1;33m\u001b[0m\u001b[0m\n",
      "\u001b[1;32m~\\AppData\\Local\\Programs\\Python\\Python37\\lib\\site-packages\\urllib3\\util\\ssl_.py\u001b[0m in \u001b[0;36m_ssl_wrap_socket_impl\u001b[1;34m(sock, ssl_context, tls_in_tls, server_hostname)\u001b[0m\n\u001b[0;32m    491\u001b[0m \u001b[1;33m\u001b[0m\u001b[0m\n\u001b[0;32m    492\u001b[0m     \u001b[1;32mif\u001b[0m \u001b[0mserver_hostname\u001b[0m\u001b[1;33m:\u001b[0m\u001b[1;33m\u001b[0m\u001b[1;33m\u001b[0m\u001b[0m\n\u001b[1;32m--> 493\u001b[1;33m         \u001b[1;32mreturn\u001b[0m \u001b[0mssl_context\u001b[0m\u001b[1;33m.\u001b[0m\u001b[0mwrap_socket\u001b[0m\u001b[1;33m(\u001b[0m\u001b[0msock\u001b[0m\u001b[1;33m,\u001b[0m \u001b[0mserver_hostname\u001b[0m\u001b[1;33m=\u001b[0m\u001b[0mserver_hostname\u001b[0m\u001b[1;33m)\u001b[0m\u001b[1;33m\u001b[0m\u001b[1;33m\u001b[0m\u001b[0m\n\u001b[0m\u001b[0;32m    494\u001b[0m     \u001b[1;32melse\u001b[0m\u001b[1;33m:\u001b[0m\u001b[1;33m\u001b[0m\u001b[1;33m\u001b[0m\u001b[0m\n\u001b[0;32m    495\u001b[0m         \u001b[1;32mreturn\u001b[0m \u001b[0mssl_context\u001b[0m\u001b[1;33m.\u001b[0m\u001b[0mwrap_socket\u001b[0m\u001b[1;33m(\u001b[0m\u001b[0msock\u001b[0m\u001b[1;33m)\u001b[0m\u001b[1;33m\u001b[0m\u001b[1;33m\u001b[0m\u001b[0m\n",
      "\u001b[1;32m~\\AppData\\Local\\Programs\\Python\\Python37\\lib\\ssl.py\u001b[0m in \u001b[0;36mwrap_socket\u001b[1;34m(self, sock, server_side, do_handshake_on_connect, suppress_ragged_eofs, server_hostname, session)\u001b[0m\n\u001b[0;32m    421\u001b[0m             \u001b[0mserver_hostname\u001b[0m\u001b[1;33m=\u001b[0m\u001b[0mserver_hostname\u001b[0m\u001b[1;33m,\u001b[0m\u001b[1;33m\u001b[0m\u001b[1;33m\u001b[0m\u001b[0m\n\u001b[0;32m    422\u001b[0m             \u001b[0mcontext\u001b[0m\u001b[1;33m=\u001b[0m\u001b[0mself\u001b[0m\u001b[1;33m,\u001b[0m\u001b[1;33m\u001b[0m\u001b[1;33m\u001b[0m\u001b[0m\n\u001b[1;32m--> 423\u001b[1;33m             \u001b[0msession\u001b[0m\u001b[1;33m=\u001b[0m\u001b[0msession\u001b[0m\u001b[1;33m\u001b[0m\u001b[1;33m\u001b[0m\u001b[0m\n\u001b[0m\u001b[0;32m    424\u001b[0m         )\n\u001b[0;32m    425\u001b[0m \u001b[1;33m\u001b[0m\u001b[0m\n",
      "\u001b[1;32m~\\AppData\\Local\\Programs\\Python\\Python37\\lib\\ssl.py\u001b[0m in \u001b[0;36m_create\u001b[1;34m(cls, sock, server_side, do_handshake_on_connect, suppress_ragged_eofs, server_hostname, context, session)\u001b[0m\n\u001b[0;32m    868\u001b[0m                         \u001b[1;31m# non-blocking\u001b[0m\u001b[1;33m\u001b[0m\u001b[1;33m\u001b[0m\u001b[1;33m\u001b[0m\u001b[0m\n\u001b[0;32m    869\u001b[0m                         \u001b[1;32mraise\u001b[0m \u001b[0mValueError\u001b[0m\u001b[1;33m(\u001b[0m\u001b[1;34m\"do_handshake_on_connect should not be specified for non-blocking sockets\"\u001b[0m\u001b[1;33m)\u001b[0m\u001b[1;33m\u001b[0m\u001b[1;33m\u001b[0m\u001b[0m\n\u001b[1;32m--> 870\u001b[1;33m                     \u001b[0mself\u001b[0m\u001b[1;33m.\u001b[0m\u001b[0mdo_handshake\u001b[0m\u001b[1;33m(\u001b[0m\u001b[1;33m)\u001b[0m\u001b[1;33m\u001b[0m\u001b[1;33m\u001b[0m\u001b[0m\n\u001b[0m\u001b[0;32m    871\u001b[0m             \u001b[1;32mexcept\u001b[0m \u001b[1;33m(\u001b[0m\u001b[0mOSError\u001b[0m\u001b[1;33m,\u001b[0m \u001b[0mValueError\u001b[0m\u001b[1;33m)\u001b[0m\u001b[1;33m:\u001b[0m\u001b[1;33m\u001b[0m\u001b[1;33m\u001b[0m\u001b[0m\n\u001b[0;32m    872\u001b[0m                 \u001b[0mself\u001b[0m\u001b[1;33m.\u001b[0m\u001b[0mclose\u001b[0m\u001b[1;33m(\u001b[0m\u001b[1;33m)\u001b[0m\u001b[1;33m\u001b[0m\u001b[1;33m\u001b[0m\u001b[0m\n",
      "\u001b[1;32m~\\AppData\\Local\\Programs\\Python\\Python37\\lib\\ssl.py\u001b[0m in \u001b[0;36mdo_handshake\u001b[1;34m(self, block)\u001b[0m\n\u001b[0;32m   1137\u001b[0m             \u001b[1;32mif\u001b[0m \u001b[0mtimeout\u001b[0m \u001b[1;33m==\u001b[0m \u001b[1;36m0.0\u001b[0m \u001b[1;32mand\u001b[0m \u001b[0mblock\u001b[0m\u001b[1;33m:\u001b[0m\u001b[1;33m\u001b[0m\u001b[1;33m\u001b[0m\u001b[0m\n\u001b[0;32m   1138\u001b[0m                 \u001b[0mself\u001b[0m\u001b[1;33m.\u001b[0m\u001b[0msettimeout\u001b[0m\u001b[1;33m(\u001b[0m\u001b[1;32mNone\u001b[0m\u001b[1;33m)\u001b[0m\u001b[1;33m\u001b[0m\u001b[1;33m\u001b[0m\u001b[0m\n\u001b[1;32m-> 1139\u001b[1;33m             \u001b[0mself\u001b[0m\u001b[1;33m.\u001b[0m\u001b[0m_sslobj\u001b[0m\u001b[1;33m.\u001b[0m\u001b[0mdo_handshake\u001b[0m\u001b[1;33m(\u001b[0m\u001b[1;33m)\u001b[0m\u001b[1;33m\u001b[0m\u001b[1;33m\u001b[0m\u001b[0m\n\u001b[0m\u001b[0;32m   1140\u001b[0m         \u001b[1;32mfinally\u001b[0m\u001b[1;33m:\u001b[0m\u001b[1;33m\u001b[0m\u001b[1;33m\u001b[0m\u001b[0m\n\u001b[0;32m   1141\u001b[0m             \u001b[0mself\u001b[0m\u001b[1;33m.\u001b[0m\u001b[0msettimeout\u001b[0m\u001b[1;33m(\u001b[0m\u001b[0mtimeout\u001b[0m\u001b[1;33m)\u001b[0m\u001b[1;33m\u001b[0m\u001b[1;33m\u001b[0m\u001b[0m\n",
      "\u001b[1;31mKeyboardInterrupt\u001b[0m: "
     ]
    }
   ],
   "source": [
    "for main_topic, subtopics in topics:\n",
    "    print(f\"Scraping data for {main_topic}...\")\n",
    "    scrape_and_index_wikipedia(main_topic, subtopics, min_unique_documents=5)"
   ]
  },
  {
   "cell_type": "markdown",
   "metadata": {},
   "source": [
    "# Verification"
   ]
  },
  {
   "cell_type": "code",
   "execution_count": 9,
   "metadata": {},
   "outputs": [
    {
     "name": "stdout",
     "output_type": "stream",
     "text": [
      "Total documents found: 19\n",
      "Document:\n",
      "  Revision ID: [1187205041]\n",
      "  Title: ['Death']\n",
      "  Summary: ['Death is the irreversible cessation of all biological functions that sustain an organism For organisms with a brain death can also be defined as the irreversible cessation of functioning of the whole brain including the brainstem  Brain death is sometimes used as a legal definition of death The remains of a former organism normally begins to decompose shortly after death Death is an inevitable process that eventually occurs in all organisms Some organisms such as Turritopsis dohrnii are biologically immortal However they can still die from means other than agingDetermining when someone has definitively died has proven difficult Initially death was defined as occurring when breathing and the heartbeat ceased a status still known as clinical death However the development of CPR meant it was no longer strictly irreversible Brain death was the next option but several definitions exist for this Some people believe that all brain functions must cease Some believe that even if the brainstem is still alive the personality and identity are irretrievably lost so therefore the person should be entirely deadDeath is generally applied to whole organisms the similar process seen in individual components of an organism such as cells or tissues is necrosis Something that is not considered an organism such as a virus can be physically destroyed but is not said to die as a virus is not considered alive in the first place As of the early 21st century 56 million people die per year The most common reason is cardiovascular disease which is a disease that affects the heartMany cultures and religions have a concept of an afterlife that may hold the idea of judgment of good and bad deeds in ones life There are also  different customs for honoring the body such as a funeral cremation or sky burialA study known as biogerontology seeks to eliminate death by natural aging in humans often through the application of natural processes found in certain organisms However as humans do not have the means to apply this to themselves they have to use other ways to reach the maximum lifespan for a human such as calorie reduction dieting and exerciseAs of 2022 a total of 109 billion humans have died or roughly 938 of all humans to ever live']\n",
      "  URL: ['https://en.wikipedia.org/wiki/Death']\n",
      "  Topic: ['Health']\n",
      "\n",
      "\n",
      "Document:\n",
      "  Revision ID: [1186141472]\n",
      "  Title: ['Health (film)']\n",
      "  Summary: ['HealtH also known as Health and HEALTH is a 1980 American ensemble comedy film the fifteenth feature project from director Robert Altman  It stars Carol Burnett Glenda Jackson James Garner Lauren Bacall and Paul Dooley and was written by Altman Dooley and Frank Barhydt  The films title is an acronym for Happiness Energy and Longevity through Health\\nA parody and satire of the US political scene of the time HealtH is set at a health food convention at a Florida luxury hotel where a powerful political organization is deciding on a new president  The election is rife with backroom deals and scandal a businessman Colonel Cody is out to rig the votes and the outcome  Dick Cavett and Dinah Shore two television talk show personalities of the time are mentioned prominently in the film\\nHealtH was made by Robert Altmans company Lions Gate Films no relation to Lionsgate Films in early 1979  It was the directors last film for the 20th CenturyFox studio which shelved its official release for over two years Despite this it received festival showings and a brief Los Angeles run during 1980 The film was broadcast on various US television stations over the years including The Movie Channel and Fox Movie Channel but it has never been issued on home video']\n",
      "  URL: ['https://en.wikipedia.org/wiki/Health_(film)']\n",
      "  Topic: ['Health']\n",
      "\n",
      "\n",
      "Document:\n",
      "  Revision ID: [1188892218]\n",
      "  Title: ['Mental health']\n",
      "  Summary: ['Mental health encompasses emotional psychological and social wellbeing influencing cognition perception and behavior According to World Health Organization WHO it is a state of wellbeing in which the individual realizes his or her abilities can cope with the normal stresses of life can work productively and fruitfully and can contribute to his or her community It likewise determines how an individual handles stress interpersonal relationships and decisionmaking Mental health includes subjective wellbeing perceived selfefficacy autonomy competence intergenerational dependence  and selfactualization of ones intellectual and emotional potential among others From the perspectives of positive psychology or holism mental health may include an individuals ability to enjoy life and to create a balance between life activities and efforts to achieve psychological resilience Cultural differences subjective assessments and competing professional theories all affect how one defines mental health Some early signs related to mental health difficulties are sleep irritation lack of energy lack of appetite thinking of harming oneself or others selfisolating and frequently zoning out']\n",
      "  URL: ['https://en.wikipedia.org/wiki/Mental_health']\n",
      "  Topic: ['Health']\n",
      "\n",
      "\n",
      "Document:\n",
      "  Revision ID: [1188853612]\n",
      "  Title: ['Health care']\n",
      "  Summary: ['Health care or healthcare is the improvement of health via the prevention diagnosis treatment amelioration or cure of disease illness injury and other physical and mental impairments in people Health care is delivered by health professionals and allied health fields Medicine dentistry pharmacy midwifery nursing optometry audiology psychology occupational therapy physical therapy athletic training and other health professions all constitute health care The term includes work done in providing primary care secondary care and tertiary care as well as in public health\\nAccess to healthcare may vary across countries communities and individuals influenced by social and economic conditions as well as health policies Providing health care services means the timely use of personal health services to achieve the best possible health outcomes Factors to consider in terms of healthcare access include financial limitations such as insurance coverage geographical and logistical barriers such as additional transportation costs and the ability to take paid time off work to use such services sociocultural expectations and personal limitations lack of ability to communicate with health care providers poor health literacy low income Limitations to health care services affects negatively the use of medical services the efficacy of treatments and overall outcome wellbeing mortality rates\\nHealth systems are organizations established to meet the health needs of targeted populations According to the World Health Organization WHO a wellfunctioning healthcare system requires a financing mechanism a welltrained and adequately paid workforce reliable information on which to base decisions and policies and wellmaintained health facilities to deliver quality medicines and technologies\\nAn efficient healthcare system can contribute to a significant part of a countrys economy development and industrialization Health care is conventionally regarded as an important determinant in promoting the general physical and mental health and wellbeing of people around the world An example of this was the worldwide eradication of smallpox in 1980 declared by the WHO as the first disease in human history to be eliminated by deliberate healthcare interventions']\n",
      "  URL: ['https://en.wikipedia.org/wiki/Health_care']\n",
      "  Topic: ['Health']\n",
      "\n",
      "\n",
      "Document:\n",
      "  Revision ID: [1188146505]\n",
      "  Title: ['Common disease-common variant']\n",
      "  Summary: ['The common diseasecommon variant often abbreviated CDCV hypothesis predicts that common diseasecausing alleles or variants will be found in all human populations which manifest a given disease Common variants not necessarily diseasecausing are known to exist in coding and regulatory sequences of genes According to the CDCV hypothesis some of those variants lead to susceptibility to complex polygenic diseases Each variant at each gene influencing a complex disease will have a small additive or multiplicative effect on the disease phenotype These diseases or traits are evolutionarily neutral in part because so many genes influence the traits The hypothesis has held  in the case of putative causal variants in apolipoprotein E including APOE 4 associated with Alzheimers disease IL23R has been found to be associated with Crohns disease the atrisk allele has a frequency of 93 in the general population\\nOne common form of variation across human genomes is called a single nucleotide polymorphism SNP As indicated by the name SNPs are single base changes in the DNA  SNP variants tend to be common in different human populations These polymorphisms have been valuable as genomic signposts or markers in the search for common variants that influence susceptibility to common diseases  Research has linked common SNPs to diseases such as type 2 diabetes Alzheimers schizophrenia and hypertension']\n",
      "  URL: ['https://en.wikipedia.org/wiki/Common_disease-common_variant']\n",
      "  Topic: ['Health']\n",
      "\n",
      "\n",
      "Document:\n",
      "  Revision ID: [1184607531]\n",
      "  Title: ['List of causes of death by rate']\n",
      "  Summary: ['The following is a list of the causes of human deaths worldwide for different years arranged by their associated mortality rates In 2002 there were about 57 million deaths In 2005 according to the World Health Organization WHO  using the International Classification of Diseases ICD about 58 million people died In 2010 according to the Institute for Health Metrics and Evaluation 528 million people died In 2016 the WHO recorded 567 million deaths with the leading cause of death as cardiovascular disease causing more than 17 million deaths about 31 of the total as shown in the chart to the side\\nSome causes listed include deaths also included in more specific subordinate causes and some causes are omitted so the percentages may only sum approximately to 100 The causes listed are relatively immediate medical causes but the ultimate cause of death might be described differently  For example tobacco smoking often causes lung disease or cancer and alcohol use disorder can cause liver failure or a motor vehicle accident For statistics on preventable ultimate causes see preventable causes of death\\nBesides frequency other measures to compare consider and monitor trends of causes of deaths include disabilityadjusted life year DALY and years of potential life lost YPLL\\n\\n']\n",
      "  URL: ['https://en.wikipedia.org/wiki/List_of_causes_of_death_by_rate']\n",
      "  Topic: ['Health']\n",
      "\n",
      "\n",
      "Document:\n",
      "  Revision ID: [1187107758]\n",
      "  Title: ['Disease']\n",
      "  Summary: ['A disease is a particular abnormal condition that adversely affects the structure or function of all or part of an organism and is not immediately due to any external injury Diseases are often known to be medical conditions that are associated with specific signs and symptoms A disease may be caused by external factors such as pathogens or by internal dysfunctions For example internal dysfunctions of the immune system can produce a variety of different diseases including various forms of immunodeficiency hypersensitivity allergies and autoimmune disorders\\nIn humans disease is often used more broadly to refer to any condition that causes pain dysfunction distress social problems or death to the person affected or similar problems for those in contact with the person In this broader sense it sometimes includes injuries disabilities disorders syndromes infections isolated symptoms deviant behaviors and atypical variations of structure and function while in other contexts and for other purposes these may be considered distinguishable categories Diseases can affect people not only physically but also mentally as contracting and living with a disease can alter the affected persons perspective on life\\nDeath due to disease is called death by natural causes There are four main types of disease infectious diseases deficiency diseases hereditary diseases including both genetic and nongenetic hereditary diseases and physiological diseases Diseases can also be classified in other ways such as communicable versus noncommunicable diseases The deadliest diseases in humans are coronary artery disease blood flow obstruction followed by cerebrovascular disease and lower respiratory infections In developed countries the diseases that cause the most sickness overall are neuropsychiatric conditions such as depression and anxiety\\nThe study of disease is called pathology which includes the study of etiology or cause\\n\\n']\n",
      "  URL: ['https://en.wikipedia.org/wiki/Disease']\n",
      "  Topic: ['Health']\n",
      "\n",
      "\n",
      "Document:\n",
      "  Revision ID: [1186068386]\n",
      "  Title: ['Mangosteen']\n",
      "  Summary: ['Mangosteen Garcinia mangostana also known as the purple mangosteen is a tropical evergreen tree with edible fruit native to tropical lands surrounding the Indian Ocean Its origin is uncertain due to widespread prehistoric cultivation It grows mainly in Southeast Asia southwest India and other tropical areas such as Colombia and Puerto Rico where the tree has been introduced\\nThe fruit of the mangosteen is sweet and tangy juicy somewhat fibrous with fluidfilled vesicles like the flesh of citrus fruits with an inedible deep reddishpurple colored rind exocarp when ripe In each fruit the fragrant edible flesh that surrounds each seed is botanically endocarp ie the inner layer of the ovary The seeds are of similar size and shape to almonds\\nGenus Garcinia also contains several lessknown fruitbearing species such as the button mangosteen G prainiana and the charichuelo G madruno']\n",
      "  URL: ['https://en.wikipedia.org/wiki/Mangosteen']\n",
      "  Topic: ['Health']\n",
      "\n",
      "\n",
      "Document:\n",
      "  Revision ID: [1188202382]\n",
      "  Title: ['Autoimmune disease']\n",
      "  Summary: ['An autoimmune disease is a condition that results from an anomalous response of the adaptive immune system wherein it mistakenly targets and attacks healthy functioning parts of the body as if they were foreign organisms It is estimated that there are more than 80 recognized autoimmune diseases with recent scientific evidence suggesting the existence of potentially more than 100 distinct conditions Nearly any body part can be involvedAutoimmune diseases are a separate class from autoinflammatory diseases Both are characterized by an immune system malfunction which may cause similar symptoms such as rash swelling or fatigue but the cardinal cause or mechanism of the diseases are different A key difference is a malfunction of the innate immune system in autoinflammatory diseases whereas in autoimmune diseases there is a malfunction of the adaptive immune systemSymptoms of autoimmune diseases can significantly vary primarily based on the specific type of the disease and the body part that it affects Symptoms are often diverse and can be fleeting fluctuating from mild to severe and typically comprise lowgrade fever feeling tired and general malaise However some autoimmune diseases may present with more specific symptoms such as joint pain skin rashes eg urticaria or neurological symptoms\\nThe exact causes of autoimmune diseases remain unclear and are likely multifactorial involving both genetic and environmental influences  While some diseases like lupus exhibit familial aggregation suggesting a genetic predisposition other cases have been associated with infectious triggers or exposure to environmental factors implying a complex interplay between genes and environment in their etiology \\nSome of the most common diseases that are generally categorized as autoimmune include celiac disease type 1 diabetes Graves disease inflammatory bowel diseases such as Crohns disease and ulcerative colitis multiple sclerosis alopecia areata Addisons disease pernicious anemia psoriasis rheumatoid arthritis and systemic lupus erythematosus Diagnosing autoimmune diseases can be challenging due to their diverse presentations and the transient nature of many symptomsTreatment modalities for autoimmune diseases vary based on the type of disease and its severity  Therapeutic approaches primarily aim to manage symptoms reduce immune system activity and maintain the bodys ability to fight diseases Nonsteroidal antiinflammatory drugs NSAIDs and immunosuppressants are commonly used to reduce inflammation and control the overactive immune response In certain cases intravenous immunoglobulin may be administered to regulate the immune system Despite these treatments often leading to symptom improvement they usually do not offer a cure and longterm management is often requiredIn terms of prevalence a UK study found that 10 of the population were affected by an autoimmune disease Women are more commonly affected than men Autoimmune diseases predominantly begin in adulthood although they can start at any age The initial recognition of autoimmune diseases dates back to the early 1900s and since then advancements in understanding and management of these conditions have been substantial though much more is needed to fully unravel their complex etiology and pathophysiology']\n",
      "  URL: ['https://en.wikipedia.org/wiki/Autoimmune_disease']\n",
      "  Topic: ['Health']\n",
      "\n",
      "\n",
      "Document:\n",
      "  Revision ID: [1184678747]\n",
      "  Title: ['Global health']\n",
      "  Summary: ['Global health is the health of the populations in the worldwide context it has been defined as the area of study research and practice that places a priority on improving health and achieving equity in health for all people worldwide Problems that transcend national borders or have a global political and economic impact are often emphasized Thus global health is about worldwide health improvement including mental health reduction of disparities and protection against global threats that disregard national borders including the most common causes of human death and years of life lost from a global perspective\\nGlobal health is not to be confused with international health which is defined as the branch of public health focusing on developing nations and foreign aid efforts by industrialized countriesOne way global health can be measured is through the prevalence of various global diseases in the world and their threat to decrease life expectancy in the present day Estimates suggest that in a premodern poor world life expectancy was around 30 years in all regions of the world mainly due to high infant mortality Another holistic perspective called One Health can be used to address global health challenges and to improve global health securityThe predominant agency associated with global health and international health is the World Health Organization WHO Other important agencies impacting global health include UNICEF and World Food Programme WFP The United Nations system has also played a part in crosssectoral actions to address global health and its underlying socioeconomic determinants with the declaration of the Millennium Development Goals and the more recent Sustainable Development Goals']\n",
      "  URL: ['https://en.wikipedia.org/wiki/Global_health']\n",
      "  Topic: ['Health']\n",
      "\n",
      "\n"
     ]
    }
   ],
   "source": [
    "import pysolr\n",
    "\n",
    "CORE_NAME = \"testing\"\n",
    "VM_IP = \"34.121.33.106\"\n",
    "\n",
    "solr = pysolr.Solr(f\"http://{VM_IP}:8983/solr/{CORE_NAME}\", always_commit=True, timeout = 1000)\n",
    "\n",
    "query = \"*:*\"\n",
    "\n",
    "results = solr.search(query)\n",
    "\n",
    "lst = []\n",
    "\n",
    "print(f\"Total documents found: {results.hits}\")\n",
    "\n",
    "for result in results:\n",
    "    print(\"Document:\")\n",
    "    print(f\"  Revision ID: {result['revision_id']}\")\n",
    "    print(f\"  Title: {result['title']}\")\n",
    "    print(f\"  Summary: {result['summary']}\")\n",
    "    print(f\"  URL: {result['url']}\")\n",
    "    print(f\"  Topic: {result['topic']}\")\n",
    "    print(\"\\n\")\n",
    "    lst.append(result['topic'])"
   ]
  },
  {
   "cell_type": "code",
   "execution_count": null,
   "metadata": {},
   "outputs": [],
   "source": []
  },
  {
   "cell_type": "markdown",
   "metadata": {},
   "source": [
    "# JSON creataion"
   ]
  },
  {
   "cell_type": "code",
   "execution_count": 16,
   "metadata": {},
   "outputs": [
    {
     "name": "stdout",
     "output_type": "stream",
     "text": [
      "Indexed documents saved to indexed_documents.json\n"
     ]
    }
   ],
   "source": [
    "import pysolr\n",
    "import json\n",
    "\n",
    "CORE_NAME = \"sample_test\"\n",
    "VM_IP = \"34.121.33.106\"\n",
    "\n",
    "solr = pysolr.Solr(f\"http://{VM_IP}:8983/solr/{CORE_NAME}\", always_commit = True, timeout = 100000)\n",
    "\n",
    "start = 0\n",
    "rows = 100\n",
    "\n",
    "documents = []\n",
    "\n",
    "while True:\n",
    "\n",
    "    query = \"*:*\"\n",
    "\n",
    "    results = solr.search(query, start = start, rows = rows)\n",
    "\n",
    "    for result in results:\n",
    "        document = {\n",
    "            \"revision_id\": result['revision_id'],\n",
    "            \"title\": result['title'],\n",
    "            \"summary\": result['summary'],\n",
    "            \"url\": result['url'],\n",
    "            \"topic\": result['topic']\n",
    "        }\n",
    "        documents.append(document)\n",
    "\n",
    "    if len(results) < rows:\n",
    "        break\n",
    "\n",
    "    start += rows\n",
    "\n",
    "json_file_path = \"indexed_documents.json\"\n",
    "\n",
    "with open(json_file_path, \"w\", encoding=\"utf-8\") as json_file:\n",
    "    json.dump(documents, json_file, ensure_ascii=False, indent=4)\n",
    "\n",
    "print(f\"Indexed documents saved to {json_file_path}\")"
   ]
  },
  {
   "cell_type": "code",
   "execution_count": null,
   "metadata": {},
   "outputs": [],
   "source": []
  },
  {
   "cell_type": "code",
   "execution_count": null,
   "metadata": {},
   "outputs": [],
   "source": []
  },
  {
   "cell_type": "code",
   "execution_count": null,
   "metadata": {},
   "outputs": [],
   "source": []
  },
  {
   "cell_type": "code",
   "execution_count": null,
   "metadata": {},
   "outputs": [],
   "source": []
  }
 ],
 "metadata": {
  "colab": {
   "provenance": []
  },
  "kernelspec": {
   "display_name": "Python 3 (ipykernel)",
   "language": "python",
   "name": "python3"
  },
  "language_info": {
   "codemirror_mode": {
    "name": "ipython",
    "version": 3
   },
   "file_extension": ".py",
   "mimetype": "text/x-python",
   "name": "python",
   "nbconvert_exporter": "python",
   "pygments_lexer": "ipython3",
   "version": "3.7.9"
  }
 },
 "nbformat": 4,
 "nbformat_minor": 1
}
